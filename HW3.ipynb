{
 "cells": [
  {
   "cell_type": "markdown",
   "metadata": {},
   "source": [
    "# problem 1"
   ]
  },
  {
   "cell_type": "code",
   "execution_count": 22,
   "metadata": {},
   "outputs": [
    {
     "name": "stdout",
     "output_type": "stream",
     "text": [
      "['bbbb', 'aaaa', 'cccc']\n",
      "['bbbb', 'aaaa', 'cccc', 'dddd']\n"
     ]
    },
    {
     "data": {
      "text/plain": [
       "['aaaa', 'cccc', 'dddd']"
      ]
     },
     "execution_count": 22,
     "metadata": {},
     "output_type": "execute_result"
    },
    {
     "name": "stdout",
     "output_type": "stream",
     "text": [
      "['aaaa', 'bbbb', 'cccc', 'dddd']\n"
     ]
    }
   ],
   "source": [
    "from IPython.core.interactiveshell import InteractiveShell\n",
    "InteractiveShell.ast_node_interactivity = 'all'\n",
    "music = ['bbbb','aaaa','cccc']\n",
    "print(music)\n",
    "music.append('dddd')\n",
    "print(music)\n",
    "music[1:]\n",
    "music.sort()\n",
    "print(music)"
   ]
  },
  {
   "cell_type": "markdown",
   "metadata": {},
   "source": [
    "# problem 2"
   ]
  },
  {
   "cell_type": "code",
   "execution_count": 27,
   "metadata": {},
   "outputs": [
    {
     "name": "stdout",
     "output_type": "stream",
     "text": [
      "{'name': 'abcd', 'age': 20, 'gender': 'male', 'zipcode': 95060, 'education': 'graduate'}\n",
      "{'age': 20, 'gender': 'male', 'zipcode': 95060, 'education': 'graduate'}\n",
      "{'age': 20, 'gender': 'male', 'zipcode': 12345, 'education': 'graduate'}\n"
     ]
    }
   ],
   "source": [
    "person = {'name':'abcd','age':20,'gender':'male','zipcode':95060}\n",
    "person['education']='graduate'\n",
    "print(person)\n",
    "del person['name']\n",
    "print(person)\n",
    "person['zipcode']=12345\n",
    "print(person)"
   ]
  },
  {
   "cell_type": "markdown",
   "metadata": {},
   "source": [
    "# problem 3"
   ]
  },
  {
   "cell_type": "code",
   "execution_count": 40,
   "metadata": {},
   "outputs": [
    {
     "name": "stdout",
     "output_type": "stream",
     "text": [
      "0 0\n",
      "5 125\n",
      "10 1000\n",
      "15 3375\n",
      "20 8000\n",
      "25 15625\n",
      "30 27000\n",
      "0\n",
      "24\n",
      "48\n",
      "72\n",
      "96\n",
      "120\n",
      "144\n",
      "168\n",
      "192\n",
      "216\n",
      "240\n",
      "264\n",
      "288\n",
      "312\n",
      "336\n",
      "360\n",
      "384\n",
      "408\n",
      "432\n",
      "456\n",
      "480\n",
      "504\n",
      "528\n",
      "552\n",
      "576\n",
      "600\n",
      "624\n",
      "648\n",
      "672\n",
      "696\n",
      "720\n",
      "744\n",
      "768\n",
      "792\n",
      "816\n",
      "840\n",
      "864\n",
      "888\n",
      "912\n",
      "936\n",
      "960\n",
      "984\n"
     ]
    }
   ],
   "source": [
    "for i in range(0,31,5):\n",
    "    print(i,i**3,)\n",
    "i=0\n",
    "while i <= 1000:\n",
    "    if i%6 == 0:\n",
    "        if i%8 == 0:\n",
    "            print(i)\n",
    "    i += 1"
   ]
  },
  {
   "cell_type": "markdown",
   "metadata": {},
   "source": [
    "# problem 4"
   ]
  },
  {
   "cell_type": "code",
   "execution_count": 59,
   "metadata": {},
   "outputs": [
    {
     "name": "stdout",
     "output_type": "stream",
     "text": [
      "odd: [19, 17, 15, 13, 11] \n",
      " even: [20, 18, 16, 14, 12, 10]\n"
     ]
    }
   ],
   "source": [
    "def one_to_two(inputlist):\n",
    "    odd = []\n",
    "    even = []\n",
    "    while inputlist:\n",
    "        try:\n",
    "            a = int(inputlist.pop())\n",
    "            #print(a)\n",
    "            if a%2 != 0:\n",
    "                odd.append(a)\n",
    "                #print('odd',odd)\n",
    "            elif a%2 == 0:\n",
    "                even.append(a)\n",
    "                #print('even',even)\n",
    "        except AttributeError:\n",
    "            print('input not list')\n",
    "    return odd,even\n",
    "x = []\n",
    "for i in range(10,21):\n",
    "    x.append(i)\n",
    "#print(x)\n",
    "odd,even = one_to_two(x)\n",
    "print('odd:',odd,'\\n','even:',even)"
   ]
  },
  {
   "cell_type": "markdown",
   "metadata": {},
   "source": [
    "# problem 5"
   ]
  },
  {
   "cell_type": "code",
   "execution_count": 68,
   "metadata": {},
   "outputs": [
    {
     "name": "stdout",
     "output_type": "stream",
     "text": [
      "p1:rock, p2:rock, result:even\n",
      "p1:rock, p2:paper, result:p2 win\n",
      "p1:rock, p2:scissors, result:p1 win\n",
      "p1:rock, p2:scissors, result:p2 win\n",
      "p1:paper, p2:rock, result:p1 win\n",
      "p1:paper, p2:paper, result:p2 even\n",
      "p1:scissors, p2:rock, result:p2 win\n",
      "p1:scissors, p2:paper, result:p1 win\n",
      "p1:scissors, p2:scissors, result:even\n"
     ]
    }
   ],
   "source": [
    "def find_winner(p1,p2):\n",
    "    if p1 == 'rock' and p2 == 'rock':\n",
    "        print('p1:{0}, p2:{1}, result:{2}'.format(p1,p2,'even'))\n",
    "    if p1 == 'rock' and p2 == 'paper':\n",
    "        print('p1:{0}, p2:{1}, result:{2}'.format(p1,p2,'p2 win'))\n",
    "    if p1 == 'rock' and p2 == 'scissors':\n",
    "        print('p1:{0}, p2:{1}, result:{2}'.format(p1,p2,'p1 win'))\n",
    "    if p1 == 'paper' and p2 == 'paper':\n",
    "        print('p1:{0}, p2:{1}, result:{2}'.format(p1,p2,'p2 even'))\n",
    "    if p1 == 'paper' and p2 == 'rock':\n",
    "        print('p1:{0}, p2:{1}, result:{2}'.format(p1,p2,'p1 win'))\n",
    "    if p1 == 'rock' and p2 == 'scissors':\n",
    "        print('p1:{0}, p2:{1}, result:{2}'.format(p1,p2,'p2 win'))\n",
    "    if p1 == 'scissors' and p2 == 'paper':\n",
    "        print('p1:{0}, p2:{1}, result:{2}'.format(p1,p2,'p1 win'))\n",
    "    if p1 == 'scissors' and p2 == 'scissors':\n",
    "        print('p1:{0}, p2:{1}, result:{2}'.format(p1,p2,'even'))\n",
    "    if p1 == 'scissors' and p2 == 'rock':\n",
    "        print('p1:{0}, p2:{1}, result:{2}'.format(p1,p2,'p2 win'))\n",
    "choice = ['rock','paper','scissors']\n",
    "for p1 in choice:\n",
    "    for p2 in choice:\n",
    "        find_winner(p1,p2)"
   ]
  },
  {
   "cell_type": "code",
   "execution_count": null,
   "metadata": {},
   "outputs": [],
   "source": []
  },
  {
   "cell_type": "code",
   "execution_count": null,
   "metadata": {},
   "outputs": [],
   "source": []
  },
  {
   "cell_type": "code",
   "execution_count": null,
   "metadata": {},
   "outputs": [],
   "source": []
  },
  {
   "cell_type": "code",
   "execution_count": null,
   "metadata": {},
   "outputs": [],
   "source": []
  },
  {
   "cell_type": "code",
   "execution_count": null,
   "metadata": {},
   "outputs": [],
   "source": []
  }
 ],
 "metadata": {
  "kernelspec": {
   "display_name": "Python 3",
   "language": "python",
   "name": "python3"
  }
 },
 "nbformat": 4,
 "nbformat_minor": 2
}
